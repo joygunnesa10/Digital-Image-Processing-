{
  "nbformat": 4,
  "nbformat_minor": 0,
  "metadata": {
    "colab": {
      "name": "Untitled0.ipynb",
      "provenance": [],
      "collapsed_sections": [],
      "authorship_tag": "ABX9TyMhLlg0e9v4rzL+RFAGD6BZ",
      "include_colab_link": true
    },
    "kernelspec": {
      "name": "python3",
      "display_name": "Python 3"
    },
    "language_info": {
      "name": "python"
    }
  },
  "cells": [
    {
      "cell_type": "markdown",
      "metadata": {
        "id": "view-in-github",
        "colab_type": "text"
      },
      "source": [
        "<a href=\"https://colab.research.google.com/github/joygunnesa10/Digital-Image-Processing-/blob/main/histogram.ipynb\" target=\"_parent\"><img src=\"https://colab.research.google.com/assets/colab-badge.svg\" alt=\"Open In Colab\"/></a>"
      ]
    },
    {
      "cell_type": "code",
      "execution_count": 17,
      "metadata": {
        "colab": {
          "base_uri": "https://localhost:8080/",
          "height": 283
        },
        "id": "DvNxwHF1oW0-",
        "outputId": "35ba286a-2c4a-4566-dfd2-07f4d6e6bf8c"
      },
      "outputs": [
        {
          "output_type": "display_data",
          "data": {
            "text/plain": [
              "<Figure size 420x300 with 1 Axes>"
            ],
            "image/png": "[encoded data removed]"
          },
          "metadata": {
            "needs_background": "light"
          }
        }
      ],
      "source": [
        "import matplotlib.pyplot as plt\n",
        "%matplotlib inline\n",
        "plt.rcParams.update({'figure.figsize':(7,5), 'figure.dpi':60})\n",
        "\n",
        "# Plot Histogram on x\n",
        "x = np.random.normal(size = 1000)\n",
        "plt.hist(x, bins=50)\n",
        "plt.gca().set(title='Frequency Histogram', ylabel='Frequency');\n"
      ]
    }
  ]
}